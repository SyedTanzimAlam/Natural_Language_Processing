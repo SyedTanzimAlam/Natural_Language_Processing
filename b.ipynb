{
 "cells": [
  {
   "cell_type": "code",
   "execution_count": 3,
   "metadata": {},
   "outputs": [
    {
     "ename": "ModuleNotFoundError",
     "evalue": "No module named 'cv2'",
     "output_type": "error",
     "traceback": [
      "\u001b[1;31m---------------------------------------------------------------------------\u001b[0m",
      "\u001b[1;31mModuleNotFoundError\u001b[0m                       Traceback (most recent call last)",
      "\u001b[1;32m<ipython-input-3-c8ec22b3e787>\u001b[0m in \u001b[0;36m<module>\u001b[1;34m\u001b[0m\n\u001b[1;32m----> 1\u001b[1;33m \u001b[1;32mimport\u001b[0m \u001b[0mcv2\u001b[0m\u001b[1;33m\u001b[0m\u001b[1;33m\u001b[0m\u001b[0m\n\u001b[0m",
      "\u001b[1;31mModuleNotFoundError\u001b[0m: No module named 'cv2'"
     ]
    }
   ],
   "source": [
    "import cv2"
   ]
  },
  {
   "cell_type": "code",
   "execution_count": 2,
   "metadata": {},
   "outputs": [],
   "source": [
    "import fitz"
   ]
  },
  {
   "cell_type": "code",
   "execution_count": 18,
   "metadata": {},
   "outputs": [],
   "source": [
    "file = 'C://Users//Windows//Documents/german_doc_new.pdf'"
   ]
  },
  {
   "cell_type": "code",
   "execution_count": 19,
   "metadata": {},
   "outputs": [
    {
     "name": "stdout",
     "output_type": "stream",
     "text": [
      "lebenslauf05.docx\"lebenslauf05.docx\" \n",
      "Agathe \n",
      "Kolbe \n",
      " \n",
      "Adresse: \n",
      "Kronenstraße 19, 10969 Berlin \n",
      " \n",
      "Telefon: \n",
      "033 XX XXX XX \n",
      " \n",
      "Email: \n",
      "agathekolbe@gmail.com \n",
      " \n",
      "Geburtsdaten: \n",
      "07.12.1979  \n",
      " \n",
      "Zivilstand: \n",
      "Ledig, keine Kinder \n",
      "Kurzprofil \n",
      "Ich habe 5 Jahre Berufserfahrung, die ich in einer \n",
      "internationalen Spedition gesammelt habe. Ich beherrsche \n",
      "fließend Englisch und Office-Software. Ich wird als energische \n",
      "und engagierte Person wahrgenommen. Ich suche einen Job \n",
      "als Sekretärin, in der ich meine Fähigkeiten und Erfahrungen \n",
      "zur Umsetzung der Unternehmensrichtlinien einsetzen werde. \n",
      "Berufliche Erfahrungen  \n",
      "05/2016 – heute \n",
      "Administrative Assistentin bei der Flint Group GmbH in Berlin  \n",
      "• Tätigkeitsbereiche: Erstellen von Power-Point-\n",
      "Präsentationen, die zur Entwicklung des Geschäfts \n",
      "beitrugen.  \n",
      "• Ausschreibung offener Stellen des Unternehmens auf \n",
      "gängigen Jobportalseiten.  \n",
      "• Erstellen von wöchentlichen und monatlichen \n",
      "Berichten und Präsentationen. \n",
      "02/2013 – 04/2016 \n",
      "Sekretärin bei der Terranets GmbH in Frankfurt  \n",
      "• Bearbeitung interner und externer Briefe und E-Mails.  \n",
      "• Organisation von Abkommen, Verträgen und \n",
      "Rechnungen. \n",
      "• Organisation des Unterschriftenablaufs.  \n",
      "• Erstellen von Berichten mittels fortgeschrittener Excel-\n",
      "Funktionen. \n",
      " \n",
      "Ausbildung \n",
      "2011 –  2015 \n",
      "Studium der Anglistik und Germanistik an der Universität Berlin \n",
      " \n",
      "Sprachen \n",
      "Deutsch – Muttersprache \n",
      "Englisch – B2 \n",
      " \n",
      "Kenntnisse & Fähigkeiten \n",
      "• Programme: MS Word, MS Excel, MS Power Point - sehr \n",
      "gute Kenntnisse.  \n",
      "• Branchenadäquater Ausdruck in der schriftlichen und \n",
      "mündlichen Kommunikation.  \n",
      "• Gutes Zeitmanagement.  \n",
      "• Selbständige Lösungsvorschläge bei bestehenden \n",
      "Problemen und Schwierigkeiten. \n",
      "\n"
     ]
    }
   ],
   "source": [
    "doc = fitz.open(file)  # open document\n",
    "for page in doc:  # iterate through the page\n",
    "    # pix = page.getPixmap()  # render page to an image\n",
    "    # pix.writePNG(\"page-%i.png\" % page.number)\n",
    "    # zoom_x = 4.0  # horizontal zoom\n",
    "    # zomm_y = 4.0  # vertical zoom\n",
    "    # mat = fitz.Matrix(zoom_x, zomm_y)  # zoom factor 2 in each dimension\n",
    "    # pix = page.getPixmap(matrix = mat)\n",
    "    print(page.getText())"
   ]
  },
  {
   "cell_type": "code",
   "execution_count": 20,
   "metadata": {},
   "outputs": [],
   "source": [
    "string = doc.getPageText(0)"
   ]
  },
  {
   "cell_type": "code",
   "execution_count": 22,
   "metadata": {},
   "outputs": [
    {
     "data": {
      "text/plain": [
       "'lebenslauf05.docx\"lebenslauf05.docx\" \\nAgathe \\nKolbe \\n \\nAdresse: \\nKronenstraße 19, 10969 Berlin \\n \\nTelefon: \\n033 XX XXX XX \\n \\nEmail: \\nagathekolbe@gmail.com \\n \\nGeburtsdaten: \\n07.12.1979  \\n \\nZivilstand: \\nLedig, keine Kinder \\nKurzprofil \\nIch habe 5 Jahre Berufserfahrung, die ich in einer \\ninternationalen Spedition gesammelt habe. Ich beherrsche \\nfließend Englisch und Office-Software. Ich wird als energische \\nund engagierte Person wahrgenommen. Ich suche einen Job \\nals Sekretärin, in der ich meine Fähigkeiten und Erfahrungen \\nzur Umsetzung der Unternehmensrichtlinien einsetzen werde. \\nBerufliche Erfahrungen  \\n05/2016 – heute \\nAdministrative Assistentin bei der Flint Group GmbH in Berlin  \\n• Tätigkeitsbereiche: Erstellen von Power-Point-\\nPräsentationen, die zur Entwicklung des Geschäfts \\nbeitrugen.  \\n• Ausschreibung offener Stellen des Unternehmens auf \\ngängigen Jobportalseiten.  \\n• Erstellen von wöchentlichen und monatlichen \\nBerichten und Präsentationen. \\n02/2013 – 04/2016 \\nSekretärin bei der Terranets GmbH in Frankfurt  \\n• Bearbeitung interner und externer Briefe und E-Mails.  \\n• Organisation von Abkommen, Verträgen und \\nRechnungen. \\n• Organisation des Unterschriftenablaufs.  \\n• Erstellen von Berichten mittels fortgeschrittener Excel-\\nFunktionen. \\n \\nAusbildung \\n2011 –  2015 \\nStudium der Anglistik und Germanistik an der Universität Berlin \\n \\nSprachen \\nDeutsch – Muttersprache \\nEnglisch – B2 \\n \\nKenntnisse & Fähigkeiten \\n• Programme: MS Word, MS Excel, MS Power Point - sehr \\ngute Kenntnisse.  \\n• Branchenadäquater Ausdruck in der schriftlichen und \\nmündlichen Kommunikation.  \\n• Gutes Zeitmanagement.  \\n• Selbständige Lösungsvorschläge bei bestehenden \\nProblemen und Schwierigkeiten. \\n'"
      ]
     },
     "execution_count": 22,
     "metadata": {},
     "output_type": "execute_result"
    }
   ],
   "source": [
    "string"
   ]
  },
  {
   "cell_type": "code",
   "execution_count": 23,
   "metadata": {},
   "outputs": [
    {
     "data": {
      "text/plain": [
       "'lebenslauf05.docx\"lebenslauf05.docx\"  Agathe  Kolbe    Adresse:  Kronenstraße 19, 10969 Berlin    Telefon:  033 XX XXX XX    Email:  agathekolbe@gmail.com    Geburtsdaten:  07.12.1979     Zivilstand:  Ledig, keine Kinder  Kurzprofil  Ich habe 5 Jahre Berufserfahrung, die ich in einer  internationalen Spedition gesammelt habe. Ich beherrsche  fließend Englisch und Office-Software. Ich wird als energische  und engagierte Person wahrgenommen. Ich suche einen Job  als Sekretärin, in der ich meine Fähigkeiten und Erfahrungen  zur Umsetzung der Unternehmensrichtlinien einsetzen werde.  Berufliche Erfahrungen   05/2016 – heute  Administrative Assistentin bei der Flint Group GmbH in Berlin   • Tätigkeitsbereiche: Erstellen von Power-Point- Präsentationen, die zur Entwicklung des Geschäfts  beitrugen.   • Ausschreibung offener Stellen des Unternehmens auf  gängigen Jobportalseiten.   • Erstellen von wöchentlichen und monatlichen  Berichten und Präsentationen.  02/2013 – 04/2016  Sekretärin bei der Terranets GmbH in Frankfurt   • Bearbeitung interner und externer Briefe und E-Mails.   • Organisation von Abkommen, Verträgen und  Rechnungen.  • Organisation des Unterschriftenablaufs.   • Erstellen von Berichten mittels fortgeschrittener Excel- Funktionen.    Ausbildung  2011 –  2015  Studium der Anglistik und Germanistik an der Universität Berlin    Sprachen  Deutsch – Muttersprache  Englisch – B2    Kenntnisse & Fähigkeiten  • Programme: MS Word, MS Excel, MS Power Point - sehr  gute Kenntnisse.   • Branchenadäquater Ausdruck in der schriftlichen und  mündlichen Kommunikation.   • Gutes Zeitmanagement.   • Selbständige Lösungsvorschläge bei bestehenden  Problemen und Schwierigkeiten.'"
      ]
     },
     "execution_count": 23,
     "metadata": {},
     "output_type": "execute_result"
    }
   ],
   "source": [
    "new_string= \" \".join(string.split('\\n'))\n",
    "new_string=new_string.strip()\n",
    "new_string"
   ]
  },
  {
   "cell_type": "code",
   "execution_count": 12,
   "metadata": {},
   "outputs": [
    {
     "name": "stderr",
     "output_type": "stream",
     "text": [
      "Using TensorFlow backend.\n"
     ]
    },
    {
     "ename": "ModuleNotFoundError",
     "evalue": "No module named 'tensorflow'",
     "output_type": "error",
     "traceback": [
      "\u001b[1;31m---------------------------------------------------------------------------\u001b[0m",
      "\u001b[1;31mModuleNotFoundError\u001b[0m                       Traceback (most recent call last)",
      "\u001b[1;32m<ipython-input-12-e83d7ca9a813>\u001b[0m in \u001b[0;36m<module>\u001b[1;34m\u001b[0m\n\u001b[1;32m----> 1\u001b[1;33m \u001b[1;32mfrom\u001b[0m \u001b[0mkeras\u001b[0m\u001b[1;33m.\u001b[0m\u001b[0mmodels\u001b[0m \u001b[1;32mimport\u001b[0m \u001b[0mload_model\u001b[0m\u001b[1;33m\u001b[0m\u001b[1;33m\u001b[0m\u001b[0m\n\u001b[0m\u001b[0;32m      2\u001b[0m \u001b[1;32mimport\u001b[0m \u001b[0mtensorflow\u001b[0m\u001b[1;33m\u001b[0m\u001b[1;33m\u001b[0m\u001b[0m\n\u001b[0;32m      3\u001b[0m \u001b[0mbasepath\u001b[0m\u001b[1;33m=\u001b[0m\u001b[1;34m'C://Users//Windows//Documents//'\u001b[0m\u001b[1;33m\u001b[0m\u001b[1;33m\u001b[0m\u001b[0m\n\u001b[0;32m      4\u001b[0m \u001b[0mmodel\u001b[0m \u001b[1;33m=\u001b[0m \u001b[0mload_model\u001b[0m\u001b[1;33m(\u001b[0m\u001b[0mbasepath\u001b[0m\u001b[1;33m+\u001b[0m\u001b[1;34m'model.h5'\u001b[0m\u001b[1;33m)\u001b[0m\u001b[1;33m\u001b[0m\u001b[1;33m\u001b[0m\u001b[0m\n",
      "\u001b[1;32mC:\\ProgramData\\Anaconda3\\lib\\site-packages\\keras\\__init__.py\u001b[0m in \u001b[0;36m<module>\u001b[1;34m\u001b[0m\n\u001b[0;32m      1\u001b[0m \u001b[1;32mfrom\u001b[0m \u001b[0m__future__\u001b[0m \u001b[1;32mimport\u001b[0m \u001b[0mabsolute_import\u001b[0m\u001b[1;33m\u001b[0m\u001b[1;33m\u001b[0m\u001b[0m\n\u001b[0;32m      2\u001b[0m \u001b[1;33m\u001b[0m\u001b[0m\n\u001b[1;32m----> 3\u001b[1;33m \u001b[1;32mfrom\u001b[0m \u001b[1;33m.\u001b[0m \u001b[1;32mimport\u001b[0m \u001b[0mutils\u001b[0m\u001b[1;33m\u001b[0m\u001b[1;33m\u001b[0m\u001b[0m\n\u001b[0m\u001b[0;32m      4\u001b[0m \u001b[1;32mfrom\u001b[0m \u001b[1;33m.\u001b[0m \u001b[1;32mimport\u001b[0m \u001b[0mactivations\u001b[0m\u001b[1;33m\u001b[0m\u001b[1;33m\u001b[0m\u001b[0m\n\u001b[0;32m      5\u001b[0m \u001b[1;32mfrom\u001b[0m \u001b[1;33m.\u001b[0m \u001b[1;32mimport\u001b[0m \u001b[0mapplications\u001b[0m\u001b[1;33m\u001b[0m\u001b[1;33m\u001b[0m\u001b[0m\n",
      "\u001b[1;32mC:\\ProgramData\\Anaconda3\\lib\\site-packages\\keras\\utils\\__init__.py\u001b[0m in \u001b[0;36m<module>\u001b[1;34m\u001b[0m\n\u001b[0;32m      4\u001b[0m \u001b[1;32mfrom\u001b[0m \u001b[1;33m.\u001b[0m \u001b[1;32mimport\u001b[0m \u001b[0mdata_utils\u001b[0m\u001b[1;33m\u001b[0m\u001b[1;33m\u001b[0m\u001b[0m\n\u001b[0;32m      5\u001b[0m \u001b[1;32mfrom\u001b[0m \u001b[1;33m.\u001b[0m \u001b[1;32mimport\u001b[0m \u001b[0mio_utils\u001b[0m\u001b[1;33m\u001b[0m\u001b[1;33m\u001b[0m\u001b[0m\n\u001b[1;32m----> 6\u001b[1;33m \u001b[1;32mfrom\u001b[0m \u001b[1;33m.\u001b[0m \u001b[1;32mimport\u001b[0m \u001b[0mconv_utils\u001b[0m\u001b[1;33m\u001b[0m\u001b[1;33m\u001b[0m\u001b[0m\n\u001b[0m\u001b[0;32m      7\u001b[0m \u001b[1;32mfrom\u001b[0m \u001b[1;33m.\u001b[0m \u001b[1;32mimport\u001b[0m \u001b[0mlosses_utils\u001b[0m\u001b[1;33m\u001b[0m\u001b[1;33m\u001b[0m\u001b[0m\n\u001b[0;32m      8\u001b[0m \u001b[1;32mfrom\u001b[0m \u001b[1;33m.\u001b[0m \u001b[1;32mimport\u001b[0m \u001b[0mmetrics_utils\u001b[0m\u001b[1;33m\u001b[0m\u001b[1;33m\u001b[0m\u001b[0m\n",
      "\u001b[1;32mC:\\ProgramData\\Anaconda3\\lib\\site-packages\\keras\\utils\\conv_utils.py\u001b[0m in \u001b[0;36m<module>\u001b[1;34m\u001b[0m\n\u001b[0;32m      7\u001b[0m \u001b[1;32mfrom\u001b[0m \u001b[0msix\u001b[0m\u001b[1;33m.\u001b[0m\u001b[0mmoves\u001b[0m \u001b[1;32mimport\u001b[0m \u001b[0mrange\u001b[0m\u001b[1;33m\u001b[0m\u001b[1;33m\u001b[0m\u001b[0m\n\u001b[0;32m      8\u001b[0m \u001b[1;32mimport\u001b[0m \u001b[0mnumpy\u001b[0m \u001b[1;32mas\u001b[0m \u001b[0mnp\u001b[0m\u001b[1;33m\u001b[0m\u001b[1;33m\u001b[0m\u001b[0m\n\u001b[1;32m----> 9\u001b[1;33m \u001b[1;32mfrom\u001b[0m \u001b[1;33m.\u001b[0m\u001b[1;33m.\u001b[0m \u001b[1;32mimport\u001b[0m \u001b[0mbackend\u001b[0m \u001b[1;32mas\u001b[0m \u001b[0mK\u001b[0m\u001b[1;33m\u001b[0m\u001b[1;33m\u001b[0m\u001b[0m\n\u001b[0m\u001b[0;32m     10\u001b[0m \u001b[1;33m\u001b[0m\u001b[0m\n\u001b[0;32m     11\u001b[0m \u001b[1;33m\u001b[0m\u001b[0m\n",
      "\u001b[1;32mC:\\ProgramData\\Anaconda3\\lib\\site-packages\\keras\\backend\\__init__.py\u001b[0m in \u001b[0;36m<module>\u001b[1;34m\u001b[0m\n\u001b[1;32m----> 1\u001b[1;33m \u001b[1;32mfrom\u001b[0m \u001b[1;33m.\u001b[0m\u001b[0mload_backend\u001b[0m \u001b[1;32mimport\u001b[0m \u001b[0mepsilon\u001b[0m\u001b[1;33m\u001b[0m\u001b[1;33m\u001b[0m\u001b[0m\n\u001b[0m\u001b[0;32m      2\u001b[0m \u001b[1;32mfrom\u001b[0m \u001b[1;33m.\u001b[0m\u001b[0mload_backend\u001b[0m \u001b[1;32mimport\u001b[0m \u001b[0mset_epsilon\u001b[0m\u001b[1;33m\u001b[0m\u001b[1;33m\u001b[0m\u001b[0m\n\u001b[0;32m      3\u001b[0m \u001b[1;32mfrom\u001b[0m \u001b[1;33m.\u001b[0m\u001b[0mload_backend\u001b[0m \u001b[1;32mimport\u001b[0m \u001b[0mfloatx\u001b[0m\u001b[1;33m\u001b[0m\u001b[1;33m\u001b[0m\u001b[0m\n\u001b[0;32m      4\u001b[0m \u001b[1;32mfrom\u001b[0m \u001b[1;33m.\u001b[0m\u001b[0mload_backend\u001b[0m \u001b[1;32mimport\u001b[0m \u001b[0mset_floatx\u001b[0m\u001b[1;33m\u001b[0m\u001b[1;33m\u001b[0m\u001b[0m\n\u001b[0;32m      5\u001b[0m \u001b[1;32mfrom\u001b[0m \u001b[1;33m.\u001b[0m\u001b[0mload_backend\u001b[0m \u001b[1;32mimport\u001b[0m \u001b[0mcast_to_floatx\u001b[0m\u001b[1;33m\u001b[0m\u001b[1;33m\u001b[0m\u001b[0m\n",
      "\u001b[1;32mC:\\ProgramData\\Anaconda3\\lib\\site-packages\\keras\\backend\\load_backend.py\u001b[0m in \u001b[0;36m<module>\u001b[1;34m\u001b[0m\n\u001b[0;32m     88\u001b[0m \u001b[1;32melif\u001b[0m \u001b[0m_BACKEND\u001b[0m \u001b[1;33m==\u001b[0m \u001b[1;34m'tensorflow'\u001b[0m\u001b[1;33m:\u001b[0m\u001b[1;33m\u001b[0m\u001b[1;33m\u001b[0m\u001b[0m\n\u001b[0;32m     89\u001b[0m     \u001b[0msys\u001b[0m\u001b[1;33m.\u001b[0m\u001b[0mstderr\u001b[0m\u001b[1;33m.\u001b[0m\u001b[0mwrite\u001b[0m\u001b[1;33m(\u001b[0m\u001b[1;34m'Using TensorFlow backend.\\n'\u001b[0m\u001b[1;33m)\u001b[0m\u001b[1;33m\u001b[0m\u001b[1;33m\u001b[0m\u001b[0m\n\u001b[1;32m---> 90\u001b[1;33m     \u001b[1;32mfrom\u001b[0m \u001b[1;33m.\u001b[0m\u001b[0mtensorflow_backend\u001b[0m \u001b[1;32mimport\u001b[0m \u001b[1;33m*\u001b[0m\u001b[1;33m\u001b[0m\u001b[1;33m\u001b[0m\u001b[0m\n\u001b[0m\u001b[0;32m     91\u001b[0m \u001b[1;32melse\u001b[0m\u001b[1;33m:\u001b[0m\u001b[1;33m\u001b[0m\u001b[1;33m\u001b[0m\u001b[0m\n\u001b[0;32m     92\u001b[0m     \u001b[1;31m# Try and load external backend.\u001b[0m\u001b[1;33m\u001b[0m\u001b[1;33m\u001b[0m\u001b[1;33m\u001b[0m\u001b[0m\n",
      "\u001b[1;32mC:\\ProgramData\\Anaconda3\\lib\\site-packages\\keras\\backend\\tensorflow_backend.py\u001b[0m in \u001b[0;36m<module>\u001b[1;34m\u001b[0m\n\u001b[0;32m      3\u001b[0m \u001b[1;32mfrom\u001b[0m \u001b[0m__future__\u001b[0m \u001b[1;32mimport\u001b[0m \u001b[0mprint_function\u001b[0m\u001b[1;33m\u001b[0m\u001b[1;33m\u001b[0m\u001b[0m\n\u001b[0;32m      4\u001b[0m \u001b[1;33m\u001b[0m\u001b[0m\n\u001b[1;32m----> 5\u001b[1;33m \u001b[1;32mimport\u001b[0m \u001b[0mtensorflow\u001b[0m \u001b[1;32mas\u001b[0m \u001b[0mtf\u001b[0m\u001b[1;33m\u001b[0m\u001b[1;33m\u001b[0m\u001b[0m\n\u001b[0m\u001b[0;32m      6\u001b[0m \u001b[1;32mfrom\u001b[0m \u001b[0mtensorflow\u001b[0m\u001b[1;33m.\u001b[0m\u001b[0mpython\u001b[0m\u001b[1;33m.\u001b[0m\u001b[0meager\u001b[0m \u001b[1;32mimport\u001b[0m \u001b[0mcontext\u001b[0m\u001b[1;33m\u001b[0m\u001b[1;33m\u001b[0m\u001b[0m\n\u001b[0;32m      7\u001b[0m \u001b[1;32mfrom\u001b[0m \u001b[0mtensorflow\u001b[0m\u001b[1;33m.\u001b[0m\u001b[0mpython\u001b[0m\u001b[1;33m.\u001b[0m\u001b[0mframework\u001b[0m \u001b[1;32mimport\u001b[0m \u001b[0mdevice\u001b[0m \u001b[1;32mas\u001b[0m \u001b[0mtfdev\u001b[0m\u001b[1;33m\u001b[0m\u001b[1;33m\u001b[0m\u001b[0m\n",
      "\u001b[1;31mModuleNotFoundError\u001b[0m: No module named 'tensorflow'"
     ]
    }
   ],
   "source": [
    "from keras.models import load_model\n",
    "import tensorflow\n",
    "basepath='C://Users//Windows//Documents//'\n",
    "model = load_model(basepath+'model.h5')"
   ]
  },
  {
   "cell_type": "code",
   "execution_count": null,
   "metadata": {},
   "outputs": [],
   "source": []
  },
  {
   "cell_type": "code",
   "execution_count": null,
   "metadata": {},
   "outputs": [],
   "source": []
  },
  {
   "cell_type": "code",
   "execution_count": null,
   "metadata": {},
   "outputs": [],
   "source": []
  },
  {
   "cell_type": "code",
   "execution_count": null,
   "metadata": {},
   "outputs": [],
   "source": []
  },
  {
   "cell_type": "code",
   "execution_count": null,
   "metadata": {},
   "outputs": [],
   "source": []
  },
  {
   "cell_type": "code",
   "execution_count": 10,
   "metadata": {},
   "outputs": [
    {
     "name": "stdout",
     "output_type": "stream",
     "text": [
      "file: C://Users//Windows//Documents/german_doc.pdf, pages: 1, objects: 108\n",
      "run time 0.2\n",
      "extracted images 1\n"
     ]
    },
    {
     "name": "stderr",
     "output_type": "stream",
     "text": [
      "C:\\ProgramData\\Anaconda3\\lib\\site-packages\\ipykernel_launcher.py:2: DeprecationWarning: time.clock has been deprecated in Python 3.3 and will be removed from Python 3.8: use time.perf_counter or time.process_time instead\n",
      "  \n",
      "C:\\ProgramData\\Anaconda3\\lib\\site-packages\\ipykernel_launcher.py:23: DeprecationWarning: time.clock has been deprecated in Python 3.3 and will be removed from Python 3.8: use time.perf_counter or time.process_time instead\n"
     ]
    }
   ],
   "source": [
    "import time\n",
    "t0 = time.clock()\n",
    "doc = fitz.open(file)\n",
    "imgcount = 0\n",
    "lenXREF = doc._getXrefLength()\n",
    "\n",
    "# display some file info\n",
    "print(\"file: %s, pages: %s, objects: %s\" % (file, len(doc), lenXREF-1))\n",
    "\n",
    "for i in range(len(doc)):\n",
    "    imglist = doc.getPageImageList(i)\n",
    "    for img in imglist:\n",
    "        xref = img[0]                  # xref number\n",
    "        pix = fitz.Pixmap(doc, xref)   # make pixmap from image\n",
    "        imgcount += 1\n",
    "        if pix.n < 5:                  # can be saved as PNG\n",
    "            pix.writePNG(\"p%s-%s.png\" % (i, xref))\n",
    "        else:                          # must convert CMYK first\n",
    "            pix0 = fitz.Pixmap(fitz.csRGB, pix)\n",
    "            pix0.writePNG(\"p%s-%s.png\" % (i, xref))\n",
    "        \n",
    "\n",
    "t1 = time.clock()\n",
    "print(\"run time\", round(t1-t0, 2))\n",
    "print(\"extracted images\", imgcount)"
   ]
  },
  {
   "cell_type": "code",
   "execution_count": 7,
   "metadata": {},
   "outputs": [
    {
     "data": {
      "text/plain": [
       "[(13, 0, 600, 401, 8, 'DeviceRGB', '', 'Im13', 'DCTDecode')]"
      ]
     },
     "execution_count": 7,
     "metadata": {},
     "output_type": "execute_result"
    }
   ],
   "source": [
    "imglist"
   ]
  },
  {
   "cell_type": "code",
   "execution_count": 25,
   "metadata": {},
   "outputs": [
    {
     "data": {
      "text/plain": [
       "-1"
      ]
     },
     "execution_count": 25,
     "metadata": {},
     "output_type": "execute_result"
    }
   ],
   "source": [
    "import cv2\n",
    "image='C://Users//Windows//Documents/test.png'\n",
    "\n",
    "image = cv2.imread(image, 1)\n",
    "img = cv2.cvtColor(image,cv2.COLOR_BGR2GRAY)\n",
    "cv2.threshold(img,0,255,cv2.THRESH_BINARY+cv2.THRESH_OTSU,img)\n",
    "cv2.bitwise_not(img,img)\n",
    "rect_kernel = cv2.getStructuringElement(cv2.MORPH_RECT, (30, 5))\n",
    "img = cv2.morphologyEx(img, cv2.MORPH_CLOSE, rect_kernel)\n",
    "contours, hierarchy = cv2.findContours(img, cv2.RETR_TREE, cv2.CHAIN_APPROX_SIMPLE)\n",
    "\n",
    "if len(contours) != 0:\n",
    "    for c in contours:\n",
    "        x,y,w,h = cv2.boundingRect(c)\n",
    "        if(h>20):\n",
    "            cv2.rectangle(image,(x,y),(x+w,y+h),(0,0,255),1)\n",
    "\n",
    "cv2.imshow(\"Result\", image)\n",
    "cv2.waitKey(0)"
   ]
  },
  {
   "cell_type": "code",
   "execution_count": null,
   "metadata": {},
   "outputs": [],
   "source": []
  },
  {
   "cell_type": "code",
   "execution_count": null,
   "metadata": {},
   "outputs": [],
   "source": []
  },
  {
   "cell_type": "code",
   "execution_count": null,
   "metadata": {},
   "outputs": [],
   "source": []
  }
 ],
 "metadata": {
  "kernelspec": {
   "display_name": "Python 3",
   "language": "python",
   "name": "python3"
  },
  "language_info": {
   "codemirror_mode": {
    "name": "ipython",
    "version": 3
   },
   "file_extension": ".py",
   "mimetype": "text/x-python",
   "name": "python",
   "nbconvert_exporter": "python",
   "pygments_lexer": "ipython3",
   "version": "3.7.7"
  }
 },
 "nbformat": 4,
 "nbformat_minor": 2
}
